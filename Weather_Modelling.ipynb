{
  "nbformat": 4,
  "nbformat_minor": 0,
  "metadata": {
    "colab": {
      "provenance": []
    },
    "kernelspec": {
      "name": "python3",
      "display_name": "Python 3"
    },
    "language_info": {
      "name": "python"
    }
  },
  "cells": [
    {
      "cell_type": "code",
      "source": [
        "\n",
        "# Hardcoding variables for the quadratic equation\n",
        "a = 1\n",
        "b = -3\n",
        "c = 2\n",
        "\n",
        "# Solving the quadratic equation\n",
        "discriminant = (b**2) - (4*a*c)\n",
        "root1 = (-b + discriminant**0.5) / (2*a)\n",
        "root2 = (-b - discriminant**0.5) / (2*a)\n",
        "print(f\"Roots: {root1}, {root2}\")"
      ],
      "metadata": {
        "colab": {
          "base_uri": "https://localhost:8080/"
        },
        "id": "8kQdyrOw7Kl-",
        "outputId": "3fbf984e-29e9-4a47-c514-24fe5eca2ec5"
      },
      "execution_count": null,
      "outputs": [
        {
          "output_type": "stream",
          "name": "stdout",
          "text": [
            "Roots: 2.0, 1.0\n"
          ]
        }
      ]
    },
    {
      "cell_type": "code",
      "source": [
        "# Stage 2: Accepting Variables via Keyboard Input\n",
        "\n",
        "# User input for coefficients\n",
        "a = float(input(\"Enter coefficient a: \"))\n",
        "b = float(input(\"Enter coefficient b: \"))\n",
        "c = float(input(\"Enter coefficient c: \"))\n",
        "\n",
        "# User input for the value of x\n",
        "x = float(input(\"Enter value of x: \"))\n",
        "\n",
        "# Quadratic equation: y = ax^2 + bx + c\n",
        "y = a * (x ** 2) + b * x + c\n",
        "\n",
        "# Output the result\n",
        "print(f\"The estimated weather value (e.g., temperature) at x={x} is {y:.2f}\")\n"
      ],
      "metadata": {
        "colab": {
          "base_uri": "https://localhost:8080/"
        },
        "id": "rpnGwU-9ArUX",
        "outputId": "ac7de074-d043-4c37-9a73-120b507b2597"
      },
      "execution_count": null,
      "outputs": [
        {
          "output_type": "stream",
          "name": "stdout",
          "text": [
            "Enter coefficient a: 12\n",
            "Enter coefficient b: 34\n",
            "Enter coefficient c: 22\n",
            "Enter value of x: 1\n",
            "The estimated weather value (e.g., temperature) at x=1.0 is 68.00\n"
          ]
        }
      ]
    },
    {
      "cell_type": "code",
      "source": [
        "# Stage 3: Reading Variables from a File\n",
        "\n",
        "# Function to read variables from a file\n",
        "def read_weather_data(file_name):\n",
        "    with open(file_name, 'r') as file:\n",
        "        a = float(file.readline().strip())\n",
        "        b = float(file.readline().strip())\n",
        "        c = float(file.readline().strip())\n",
        "        x = float(file.readline().strip())\n",
        "    return a, b, c, x\n",
        "\n",
        "# Read data from file\n",
        "file_name = \"/content/weather_data.txt\"\n",
        "a, b, c, x = read_weather_data(file_name)\n",
        "\n",
        "# Quadratic equation: y = ax^2 + bx + c\n",
        "y = a * (x ** 2) + b * x + c\n",
        "\n",
        "# Output the result\n",
        "print(f\"The estimated weather value (e.g., temperature) at x={x} is {y:.2f}\")\n"
      ],
      "metadata": {
        "colab": {
          "base_uri": "https://localhost:8080/"
        },
        "id": "sF5flSk8BEyR",
        "outputId": "bbffc37f-ae8e-4bca-ab1e-78e6821842d4"
      },
      "execution_count": null,
      "outputs": [
        {
          "output_type": "stream",
          "name": "stdout",
          "text": [
            "The estimated weather value (e.g., temperature) at x=5.0 is 11.00\n"
          ]
        }
      ]
    },
    {
      "cell_type": "code",
      "source": [
        "# Stage 4: Processing a Single Set of Inputs\n",
        "\n",
        "def process_single_input(a, b, c, x):\n",
        "    # Quadratic equation: y = ax^2 + bx + c\n",
        "    return a * (x ** 2) + b * x + c\n",
        "\n",
        "# For example, let's read from a file\n",
        "a, b, c, x = read_weather_data(\"weather_data.txt\")\n",
        "\n",
        "# Process the input\n",
        "y = process_single_input(a, b, c, x)\n",
        "\n",
        "# Output the result\n",
        "print(f\"The estimated weather value (e.g., temperature) at x={x} is {y:.2f}\")\n"
      ],
      "metadata": {
        "colab": {
          "base_uri": "https://localhost:8080/"
        },
        "id": "qTMMUWkvCGKN",
        "outputId": "753ad75e-e528-48e8-8796-cff93fd68d62"
      },
      "execution_count": null,
      "outputs": [
        {
          "output_type": "stream",
          "name": "stdout",
          "text": [
            "The estimated weather value (e.g., temperature) at x=5.0 is 11.00\n"
          ]
        }
      ]
    },
    {
      "cell_type": "code",
      "source": [
        "# Stage 5: Processing Multiple Sets of Inputs\n",
        "\n",
        "def read_multiple_weather_data(file_name):\n",
        "    data_sets = []\n",
        "    with open(file_name, 'r') as file:\n",
        "        while True:\n",
        "            try:\n",
        "                a = float(file.readline().strip())\n",
        "                b = float(file.readline().strip())\n",
        "                c = float(file.readline().strip())\n",
        "                x = float(file.readline().strip())\n",
        "                data_sets.append((a, b, c, x))\n",
        "            except ValueError:\n",
        "                break  # End of file\n",
        "    return data_sets\n",
        "\n",
        "def process_multiple_inputs(data_sets):\n",
        "    results = []\n",
        "    for a, b, c, x in data_sets:\n",
        "        y = a * (x ** 2) + b * x + c\n",
        "        results.append(y)\n",
        "    return results\n",
        "\n",
        "# Read multiple sets of data from file\n",
        "file_name = \"weather_data.txt\"\n",
        "data_sets = read_multiple_weather_data(file_name)\n",
        "\n",
        "# Process the data\n",
        "results = process_multiple_inputs(data_sets)\n",
        "\n",
        "# Output the results\n",
        "for i, result in enumerate(results):\n",
        "    print(f\"Set {i + 1}: Estimated weather value (e.g., temperature) is {result:.2f}\")\n"
      ],
      "metadata": {
        "id": "ZngTkihACZSi",
        "outputId": "93f16134-9a85-491f-d15d-e580b942948c",
        "colab": {
          "base_uri": "https://localhost:8080/"
        }
      },
      "execution_count": null,
      "outputs": [
        {
          "output_type": "stream",
          "name": "stdout",
          "text": [
            "Set 1: Estimated weather value (e.g., temperature) is 11.00\n"
          ]
        }
      ]
    }
  ]
}